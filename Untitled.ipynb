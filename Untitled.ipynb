{
 "cells": [
  {
   "cell_type": "markdown",
   "metadata": {
    "slideshow": {
     "slide_type": "slide"
    }
   },
   "source": [
    "# Genome 373\n",
    "Quiz section #1 \n",
    "April 5, 2019"
   ]
  },
  {
   "cell_type": "markdown",
   "metadata": {
    "slideshow": {
     "slide_type": "slide"
    }
   },
   "source": [
    "# Welcome to Genomic Informatics \n",
    "\n",
    "Sarah Hilton (skhilton@uw.edu) \n",
    "\n",
    "office hours: Fridays after class or by appointment \n",
    "\n",
    "My research focuses on modeling protein evolution using phylogenetics. "
   ]
  },
  {
   "cell_type": "markdown",
   "metadata": {
    "slideshow": {
     "slide_type": "slide"
    }
   },
   "source": [
    "# How will quiz sections be organized? \n",
    "\n",
    "Quiz section has three main purposes: \n",
    "\n",
    "* Review content from lecture (please ask me questions!) \n",
    "\n",
    "* Review high-level coding ideas \n",
    "\n",
    "* Learn some introductions to programming"
   ]
  },
  {
   "cell_type": "markdown",
   "metadata": {
    "slideshow": {
     "slide_type": "slide"
    }
   },
   "source": [
    "# Introduction to coding "
   ]
  },
  {
   "cell_type": "markdown",
   "metadata": {
    "slideshow": {
     "slide_type": "slide"
    }
   },
   "source": [
    "# Introduction to vocabulary \n",
    "\n",
    "* Variables \n",
    "* Conditionals \n",
    "* Loops \n",
    "* Functions \n",
    "\n",
    "* Data structures "
   ]
  },
  {
   "cell_type": "markdown",
   "metadata": {
    "slideshow": {
     "slide_type": "slide"
    }
   },
   "source": [
    "# How do I access this slides? \n",
    "\n",
    "All of the material for the class can be found at [github.com/skhiton/](https://github.com/skhilton). \n",
    "\n",
    "You may access the slides 3 different ways (all of the information is the same): \n",
    "* html \n",
    "* pdf\n",
    "* jupyter notebook"
   ]
  },
  {
   "cell_type": "markdown",
   "metadata": {
    "slideshow": {
     "slide_type": "slide"
    }
   },
   "source": [
    "# Variables: store data \n",
    "\n",
    "Variables have a *name* and a *value*. \n",
    "The value is *assigned* to the name using `= `\n",
    "\n"
   ]
  },
  {
   "cell_type": "code",
   "execution_count": 1,
   "metadata": {
    "slideshow": {
     "slide_type": "fragment"
    }
   },
   "outputs": [
    {
     "name": "stdout",
     "output_type": "stream",
     "text": [
      "blue\n",
      "pink\n"
     ]
    }
   ],
   "source": [
    "x = \"blue\"\n",
    "print(x)\n",
    "x = \"pink\"\n",
    "print(x)"
   ]
  },
  {
   "cell_type": "code",
   "execution_count": null,
   "metadata": {},
   "outputs": [],
   "source": []
  }
 ],
 "metadata": {
  "celltoolbar": "Slideshow",
  "kernelspec": {
   "display_name": "Python 3",
   "language": "python",
   "name": "python3"
  },
  "language_info": {
   "codemirror_mode": {
    "name": "ipython",
    "version": 3
   },
   "file_extension": ".py",
   "mimetype": "text/x-python",
   "name": "python",
   "nbconvert_exporter": "python",
   "pygments_lexer": "ipython3",
   "version": "3.6.8"
  },
  "toc": {
   "nav_menu": {},
   "number_sections": false,
   "sideBar": true,
   "skip_h1_title": false,
   "toc_cell": false,
   "toc_position": {},
   "toc_section_display": "block",
   "toc_window_display": false
  }
 },
 "nbformat": 4,
 "nbformat_minor": 2
}
